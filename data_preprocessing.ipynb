{
 "cells": [
  {
   "cell_type": "code",
   "execution_count": 1,
   "metadata": {
    "_cell_guid": "b1076dfc-b9ad-4769-8c92-a6c4dae69d19",
    "_uuid": "8f2839f25d086af736a60e9eeb907d3b93b6e0e5"
   },
   "outputs": [
    {
     "ename": "ModuleNotFoundError",
     "evalue": "No module named 'seaborn'",
     "output_type": "error",
     "traceback": [
      "\u001b[0;31m---------------------------------------------------------------------------\u001b[0m",
      "\u001b[0;31mModuleNotFoundError\u001b[0m                       Traceback (most recent call last)",
      "\u001b[0;32m<ipython-input-1-858f2a0eeca3>\u001b[0m in \u001b[0;36m<module>\u001b[0;34m\u001b[0m\n\u001b[1;32m      5\u001b[0m \u001b[0;32mimport\u001b[0m \u001b[0mnumpy\u001b[0m \u001b[0;32mas\u001b[0m \u001b[0mnp\u001b[0m \u001b[0;31m# linear algebra\u001b[0m\u001b[0;34m\u001b[0m\u001b[0;34m\u001b[0m\u001b[0m\n\u001b[1;32m      6\u001b[0m \u001b[0;32mimport\u001b[0m \u001b[0mpandas\u001b[0m \u001b[0;32mas\u001b[0m \u001b[0mpd\u001b[0m \u001b[0;31m# data processing, CSV file I/O (e.g. pd.read_csv)\u001b[0m\u001b[0;34m\u001b[0m\u001b[0;34m\u001b[0m\u001b[0m\n\u001b[0;32m----> 7\u001b[0;31m \u001b[0;32mimport\u001b[0m \u001b[0mseaborn\u001b[0m \u001b[0;32mas\u001b[0m \u001b[0msns\u001b[0m\u001b[0;34m\u001b[0m\u001b[0;34m\u001b[0m\u001b[0m\n\u001b[0m\u001b[1;32m      8\u001b[0m \u001b[0;32mimport\u001b[0m \u001b[0mmatplotlib\u001b[0m\u001b[0;34m.\u001b[0m\u001b[0mpyplot\u001b[0m \u001b[0;32mas\u001b[0m \u001b[0mplt\u001b[0m\u001b[0;34m\u001b[0m\u001b[0;34m\u001b[0m\u001b[0m\n\u001b[1;32m      9\u001b[0m \u001b[0;32mfrom\u001b[0m \u001b[0mpandas\u001b[0m\u001b[0;34m.\u001b[0m\u001b[0mplotting\u001b[0m \u001b[0;32mimport\u001b[0m \u001b[0mscatter_matrix\u001b[0m\u001b[0;34m\u001b[0m\u001b[0;34m\u001b[0m\u001b[0m\n",
      "\u001b[0;31mModuleNotFoundError\u001b[0m: No module named 'seaborn'"
     ]
    }
   ],
   "source": [
    "# This Python 3 environment comes with many helpful analytics libraries installed\n",
    "# It is defined by the kaggle/python docker image: https://github.com/kaggle/docker-python\n",
    "# For example, here's several helpful packages to load in \n",
    "\n",
    "import numpy as np # linear algebra\n",
    "import pandas as pd # data processing, CSV file I/O (e.g. pd.read_csv)\n",
    "import seaborn as sns\n",
    "import matplotlib.pyplot as plt\n",
    "from pandas.plotting import scatter_matrix\n",
    "# Input data files are available in the \"../input/\" directory.\n",
    "# For example, running this (by clicking run or pressing Shift+Enter) will list the files in the input directory\n",
    "\n",
    "import os\n",
    "print(os.listdir(\"../input\"))\n",
    "\n",
    "# Any results you write to the current directory are saved as output."
   ]
  },
  {
   "cell_type": "code",
   "execution_count": null,
   "metadata": {
    "_cell_guid": "79c7e3d0-c299-4dcb-8224-4455121ee9b0",
    "_uuid": "d629ff2d2480ee46fbb7e2d37f6b5fab8052498a",
    "scrolled": true
   },
   "outputs": [],
   "source": [
    "df_train = pd.read_csv('../input/train.csv')\n",
    "#df_test = pd.read_csv('../input/test.csv')\n",
    "df_train.head()"
   ]
  },
  {
   "cell_type": "code",
   "execution_count": null,
   "metadata": {
    "_uuid": "92a86b8a4d66e105a17696f3955bed5150d00006"
   },
   "outputs": [],
   "source": [
    "#df_test.head()"
   ]
  },
  {
   "cell_type": "code",
   "execution_count": null,
   "metadata": {
    "_uuid": "502e78fea59e86c4d460339c7e8f63a48983ce51"
   },
   "outputs": [],
   "source": [
    "#fig, ax = plt.subplots(figsize=(20,20)) \n",
    "#sns.heatmap(df_train.corr(),annot = True, fmt = '.2f', cmap = 'coolwarm', ax=ax) # with y"
   ]
  },
  {
   "cell_type": "code",
   "execution_count": null,
   "metadata": {
    "_uuid": "10dc184796d51738753e5768a6ec59412978f7ca",
    "scrolled": false
   },
   "outputs": [],
   "source": [
    "temp1 = df_train.iloc[:,11:15]\n",
    "wilderness_column = pd.DataFrame({\"Wilderness\":[]})\n",
    "for idx,row in temp1.iterrows():\n",
    "    #print(idx, row)\n",
    "    i = np.argmax(list(row))\n",
    "    #print(i+1)\n",
    "    wilderness_column = wilderness_column.append({\"Wilderness\":i+1}, ignore_index=True)"
   ]
  },
  {
   "cell_type": "code",
   "execution_count": null,
   "metadata": {
    "_uuid": "507f71a33d7e0d9f3d7c15aaf0755c7a8726be62",
    "scrolled": false
   },
   "outputs": [],
   "source": [
    "#sum(wilderness_column['Wilderness'].value_counts())"
   ]
  },
  {
   "cell_type": "code",
   "execution_count": null,
   "metadata": {
    "_uuid": "f951e590ee3c7f860dbe7a73d50408d93fcee68e"
   },
   "outputs": [],
   "source": [
    "temp2 = df_train.iloc[:,15:-1]\n",
    "soil_column = pd.DataFrame({\"Soil_type\":[]})\n",
    "for idx,row in temp2.iterrows():\n",
    "    #print(idx, row)\n",
    "    i = np.argmax(list(row))\n",
    "    #print(i+1)\n",
    "    soil_column = soil_column.append({\"Soil_type\":i+1}, ignore_index=True)"
   ]
  },
  {
   "cell_type": "code",
   "execution_count": null,
   "metadata": {
    "_uuid": "9567f3bbfc4889c0fd815b97936632948cb0b6ec"
   },
   "outputs": [],
   "source": [
    "#sum(soil_column['Soil_type'].value_counts())"
   ]
  },
  {
   "cell_type": "code",
   "execution_count": null,
   "metadata": {
    "_uuid": "f06e780b57dd83c52fb0926721154ec4bf8cd15a"
   },
   "outputs": [],
   "source": [
    "x_train = pd.concat([df_train.iloc[:,:11], wilderness_column,soil_column],axis=1)"
   ]
  },
  {
   "cell_type": "code",
   "execution_count": null,
   "metadata": {
    "_uuid": "206d02ded3556892ae1bf4a935759d5a3d0924f4"
   },
   "outputs": [],
   "source": [
    "x_train.head()"
   ]
  },
  {
   "cell_type": "code",
   "execution_count": null,
   "metadata": {
    "_uuid": "168112914d1f6510c22b901d7ff2d5d8c9d33d90"
   },
   "outputs": [],
   "source": [
    "#x_train['Aspect'].value_counts()"
   ]
  },
  {
   "cell_type": "code",
   "execution_count": null,
   "metadata": {
    "_uuid": "2fca9b17bb87e4d9891da3c694df26bbb70de2e5"
   },
   "outputs": [],
   "source": [
    "#sns.heatmap(x_train.corr(),annot = True, fmt = '.2f', cmap = 'coolwarm')"
   ]
  },
  {
   "cell_type": "code",
   "execution_count": null,
   "metadata": {
    "_uuid": "383bb3a158e13c1b03a6ce746132ed1378ad7355"
   },
   "outputs": [],
   "source": [
    "newdatadf = pd.concat([ x_train, df_train.iloc[:,-1:]], axis = 1)"
   ]
  },
  {
   "cell_type": "code",
   "execution_count": null,
   "metadata": {
    "_uuid": "48e60424fdfac67fe86f9bf8d0ca71a1f352728f",
    "scrolled": true
   },
   "outputs": [],
   "source": [
    "newdatadf.head()"
   ]
  },
  {
   "cell_type": "code",
   "execution_count": null,
   "metadata": {
    "_uuid": "b8b805870247d3698f69b91a89dd2cc8dd161eb3"
   },
   "outputs": [],
   "source": [
    "newdatadf = newdatadf.drop(['Id'], axis=1)"
   ]
  },
  {
   "cell_type": "code",
   "execution_count": null,
   "metadata": {
    "_uuid": "a5db5d19049aee524e760a10f1dd552a931aac30"
   },
   "outputs": [],
   "source": [
    "newdatadf.head()"
   ]
  },
  {
   "cell_type": "code",
   "execution_count": null,
   "metadata": {
    "_uuid": "b4a220dbae95f2b8c8e21fba59e2e4f3386adfa5"
   },
   "outputs": [],
   "source": [
    "def add_features(data):\n",
    "    data['Euclidean_Distance_To_Hydrology'] = (data['Horizontal_Distance_To_Hydrology']**2 + data['Vertical_Distance_To_Hydrology']**2)**0.5\n",
    "    data['Mean_Distance_To_Amenities'] = (data['Horizontal_Distance_To_Fire_Points'] + data['Horizontal_Distance_To_Hydrology'] + data['Horizontal_Distance_To_Roadways']) / 3.0\n",
    "    #data['Elevation_Minus_Vertical_Distance_To_Hydrology_'] = data['Elevation'] - data['Vertical_Distance_To_Hydrology']\n",
    "    return data"
   ]
  },
  {
   "cell_type": "code",
   "execution_count": null,
   "metadata": {
    "_uuid": "83e32ee707d3ccbd1d1c76b7849772499733c60d"
   },
   "outputs": [],
   "source": [
    "newdatadf = add_features(newdatadf)"
   ]
  },
  {
   "cell_type": "code",
   "execution_count": null,
   "metadata": {
    "_uuid": "58be7be7fa99025ff846f573eb0a72789ffd2324"
   },
   "outputs": [],
   "source": [
    "newdatadf.head()"
   ]
  },
  {
   "cell_type": "code",
   "execution_count": null,
   "metadata": {
    "_uuid": "3080b89054cf5116ef43cf488cc908f6dbf988eb"
   },
   "outputs": [],
   "source": [
    "newdatadf = newdatadf.drop(['Horizontal_Distance_To_Hydrology'], axis=1)"
   ]
  },
  {
   "cell_type": "code",
   "execution_count": null,
   "metadata": {
    "_uuid": "d6264865feb779b8d35ab9b512e193e62d58de13"
   },
   "outputs": [],
   "source": [
    "newdatadf = newdatadf.drop(['Vertical_Distance_To_Hydrology',\"Horizontal_Distance_To_Roadways\",\"Horizontal_Distance_To_Fire_Points\"], axis=1)"
   ]
  },
  {
   "cell_type": "code",
   "execution_count": null,
   "metadata": {
    "_uuid": "77fe0192bcc9d2937ac60427aba3506c5a3dba32"
   },
   "outputs": [],
   "source": [
    "newdatadf.head()"
   ]
  },
  {
   "cell_type": "code",
   "execution_count": null,
   "metadata": {
    "_uuid": "c237e6776b8b5449865f64be34c3f8730d1beab6"
   },
   "outputs": [],
   "source": [
    "#data['Mean_Hillshade'] = (data['Horizontal_Distance_To_Fire_Points'] + data['Horizontal_Distance_To_Hydrology'] + data['Horizontal_Distance_To_Roadways']) / 3.0"
   ]
  },
  {
   "cell_type": "code",
   "execution_count": null,
   "metadata": {
    "_uuid": "4a5ec34149416c6a672a2c032df005ddb0576c04",
    "scrolled": true
   },
   "outputs": [],
   "source": [
    "newdatadf.to_csv('newdata.csv', sep=',')"
   ]
  },
  {
   "cell_type": "code",
   "execution_count": null,
   "metadata": {
    "_uuid": "c6c6391b483f4806867cc74d7dd0c1d241dfad58"
   },
   "outputs": [],
   "source": [
    "newdatadf = newdatadf[[\"Elevation\",\"Aspect\",\"Slope\",\"Hillshade_9am\",\"Hillshade_Noon\",\"Hillshade_3pm\",\"Wilderness\",\"Soil_type\",\"Euclidean_Distance_To_Hydrology\",\"Mean_Distance_To_Amenities\", \"Cover_Type\"]]"
   ]
  },
  {
   "cell_type": "code",
   "execution_count": null,
   "metadata": {
    "_uuid": "2cfed5a6a1d42cfbdb49b7269c3501fd1029f3ce"
   },
   "outputs": [],
   "source": [
    "newdatadf.head()"
   ]
  },
  {
   "cell_type": "code",
   "execution_count": null,
   "metadata": {
    "_uuid": "ea4febbd0dbcc95bce1e14170f2ce2a1b4921d50"
   },
   "outputs": [],
   "source": [
    "fig, ax = plt.subplots(figsize=(15,10)) \n",
    "sns.heatmap(newdatadf.corr(),annot = True, fmt = '.2f', cmap = 'coolwarm', ax=ax) # with y"
   ]
  },
  {
   "cell_type": "code",
   "execution_count": null,
   "metadata": {
    "_uuid": "d40db8d0a0d13fe4eaaf3792b3f635b3d0e743da"
   },
   "outputs": [],
   "source": []
  },
  {
   "cell_type": "code",
   "execution_count": null,
   "metadata": {
    "_uuid": "9a217d85412c4a8286589db3ab2d135871c2b52c"
   },
   "outputs": [],
   "source": []
  },
  {
   "cell_type": "code",
   "execution_count": null,
   "metadata": {
    "_uuid": "c281ca9e9018c8240a860a2b9fddada1df3bdfdb"
   },
   "outputs": [],
   "source": [
    "newdatadf = newdatadf.drop[\"Id\"]"
   ]
  },
  {
   "cell_type": "code",
   "execution_count": null,
   "metadata": {
    "_uuid": "f50c545d41a20a1d9f00a6cf93b1a3b27cfc3c37"
   },
   "outputs": [],
   "source": [
    "fig, ax = plt.subplots(figsize=(15,10)) \n",
    "sns.heatmap(newdatadf.corr(),annot = True, fmt = '.2f', cmap = 'coolwarm', ax=ax) # with y"
   ]
  },
  {
   "cell_type": "code",
   "execution_count": null,
   "metadata": {
    "_uuid": "b6eec20debdf9f9d2b3172f5c3bcead5998294b0"
   },
   "outputs": [],
   "source": [
    "newdatadf.iloc[:,1:11].describe()"
   ]
  },
  {
   "cell_type": "code",
   "execution_count": null,
   "metadata": {
    "_uuid": "3b41085f38358f752e7aebec0626b248cee049f3",
    "scrolled": true
   },
   "outputs": [],
   "source": [
    "newdatadf[\"Soil_type\"] = newdatadf[\"Soil_type\"].astype('category')\n",
    "plt.figure(figsize=(15,10))\n",
    "plt.title(\"Plot for soil_type\")\n",
    "ax = sns.countplot(x = \"Soil_type\",data = newdatadf)"
   ]
  },
  {
   "cell_type": "code",
   "execution_count": null,
   "metadata": {
    "_uuid": "05dceac78baddb361fb9f3515cfa41b6d36165bd"
   },
   "outputs": [],
   "source": [
    "newdatadf[\"Wilderness\"] = newdatadf[\"Wilderness\"].astype('category')\n",
    "plt.figure(figsize=(12,5))\n",
    "plt.title(\"Plot for Wilderness_Area\")\n",
    "ax = sns.countplot(x = \"Wilderness\",data = newdatadf)"
   ]
  },
  {
   "cell_type": "code",
   "execution_count": null,
   "metadata": {
    "_uuid": "e92db71446dc3144084b80ee692215a355878063"
   },
   "outputs": [],
   "source": [
    "sns.FacetGrid(newdatadf, hue=\"Soil_type\", size=10).map(plt.scatter, \"Elevation\", \"Slope\").add_legend()"
   ]
  },
  {
   "cell_type": "code",
   "execution_count": null,
   "metadata": {
    "_uuid": "cceb7a49f9a19befb4b30a7e523ad19227c9068d"
   },
   "outputs": [],
   "source": [
    "sns.FacetGrid(newdatadf, hue=\"Cover_Type\", size=10).map(plt.scatter, \"Elevation\", \"Soil_type\").add_legend()"
   ]
  },
  {
   "cell_type": "code",
   "execution_count": null,
   "metadata": {
    "_uuid": "759ceb25b44d1a53cc6c78b078fe9a78dc4a0980"
   },
   "outputs": [],
   "source": [
    "#elevation vs aspect\n"
   ]
  },
  {
   "cell_type": "code",
   "execution_count": null,
   "metadata": {
    "_uuid": "69afe3e0bec1afbb155ce27f6255881d31ac89fa",
    "scrolled": true
   },
   "outputs": [],
   "source": [
    "plt.scatter(newdatadf[\"Soil_type\"], newdatadf[\"Cover_Type\"])\n",
    "plt.show()"
   ]
  },
  {
   "cell_type": "code",
   "execution_count": null,
   "metadata": {
    "_uuid": "94c45b82eba91b4ee9cd77f921044a5023af87e8"
   },
   "outputs": [],
   "source": [
    "sns.FacetGrid(newdatadf, hue=\"Wilderness\", size=10).map(plt.scatter, \"Horizontal_Distance_To_Hydrology\", \"Vertical_Distance_To_Hydrology\").add_legend()"
   ]
  },
  {
   "cell_type": "code",
   "execution_count": null,
   "metadata": {
    "_uuid": "d6324eb48c145a0f1d781a87c4659693c2f7c360"
   },
   "outputs": [],
   "source": [
    "plt.figure(figsize=(12,5))\n",
    "sns.boxplot(x=\"Cover_Type\",\n",
    "            y=\"Hillshade_9am\",\n",
    "            data=newdatadf)"
   ]
  },
  {
   "cell_type": "code",
   "execution_count": null,
   "metadata": {
    "_uuid": "332f847b85fa00f5bd7b84193e466b193f44d2c1",
    "scrolled": true
   },
   "outputs": [],
   "source": [
    "plt.figure(figsize=(12,5))\n",
    "plt.title(\"Histgram for Cover_Type\")\n",
    "ax = sns.distplot(newdatadf[\"Cover_Type\"],kde=False, rug=True)"
   ]
  },
  {
   "cell_type": "code",
   "execution_count": null,
   "metadata": {
    "_uuid": "f682d160a4e29ae107a3d0c9b6df8e3aa0b5c88b"
   },
   "outputs": [],
   "source": [
    "sns.violinplot(newdatadf[\"Cover_Type\"], newdatadf[\"Elevation\"])\n",
    "plt.title('Elevation vs Cover_Type', fontsize=15)"
   ]
  },
  {
   "cell_type": "code",
   "execution_count": null,
   "metadata": {
    "_uuid": "eb6dcd1479fcf3e21e62b8811009a7a6ba237716"
   },
   "outputs": [],
   "source": [
    "#from pandas.plotting import scatter_matrix\n",
    "scatter_matrix(newdatadf,figsize=(15, 15))\n",
    "plt.show()"
   ]
  },
  {
   "cell_type": "code",
   "execution_count": null,
   "metadata": {
    "_uuid": "f62f68d744d765486f29a49376d776b77dc9bd55"
   },
   "outputs": [],
   "source": [
    "sns.set(style=\"ticks\")\n",
    "sns.pairplot(newdatadf, hue=\"Cover_Type\")"
   ]
  },
  {
   "cell_type": "code",
   "execution_count": null,
   "metadata": {
    "_uuid": "bda3fc80e726c786e0db35271491de79a1bab57a"
   },
   "outputs": [],
   "source": [
    "fig, ax = plt.subplots(figsize=(15,10)) \n",
    "sns.heatmap(newdatadf.corr(),annot = True, fmt = '.2f', cmap = 'coolwarm', ax=ax) # with y"
   ]
  },
  {
   "cell_type": "code",
   "execution_count": null,
   "metadata": {
    "_uuid": "64f8ed96ccad2ba5300d4c61ef5d5a11fe053622"
   },
   "outputs": [],
   "source": [
    "#x['Aspect'].describe()"
   ]
  },
  {
   "cell_type": "code",
   "execution_count": null,
   "metadata": {
    "_uuid": "c678f6fb26cc1844c144a50fdc7ff4694d8dc2b2"
   },
   "outputs": [],
   "source": [
    "#x_train.describe()"
   ]
  },
  {
   "cell_type": "code",
   "execution_count": null,
   "metadata": {
    "_uuid": "4a7ad40152bb6fd91816bd481e30610b9c1e5f31"
   },
   "outputs": [],
   "source": [
    "#custom_bucket_array = np.linspace(0, 360, 5)\n",
    "#x['Aspect'] = pd.cut(x['Aspect'], custom_bucket_array)"
   ]
  },
  {
   "cell_type": "code",
   "execution_count": null,
   "metadata": {
    "_uuid": "1938dfce6158ded053a9d98695cb51939eec3916",
    "scrolled": false
   },
   "outputs": [],
   "source": [
    "#x.head()"
   ]
  },
  {
   "cell_type": "code",
   "execution_count": null,
   "metadata": {
    "_uuid": "8446b9a359070d67721d8d6ca80cc3fb1c1953bb"
   },
   "outputs": [],
   "source": [
    "#custom_bucket_array = np.linspace(0, 360, 5)\n",
    "#x['Aspect'] = pd.cut(x['Aspect'], custom_bucket_array)\n"
   ]
  },
  {
   "cell_type": "code",
   "execution_count": null,
   "metadata": {
    "_uuid": "09c091f1b11e63d84d43bfbc4aacbfed8d1efd55"
   },
   "outputs": [],
   "source": [
    "#Euc_distance_column = pd.DataFrame({\"Euc_Dis_To_Hydrology\":[]})\n",
    "Euc_distance_column = np.sqrt(np.square(x_train['Horizontal_Distance_To_Hydrology'])+x_train['Vertical_Distance_To_Hydrology'])\n",
    "Euc_distance_column = pd.DataFrame({'Euc_Dis_To_Hydrology':Euc_distance_column})"
   ]
  },
  {
   "cell_type": "code",
   "execution_count": null,
   "metadata": {
    "_uuid": "db00f0770916a7162b1c5b7cf2580b323bc2569d"
   },
   "outputs": [],
   "source": [
    "x_train = pd.concat([ x_train, Euc_distance_column], axis = 1)\n",
    "x_train.head()"
   ]
  },
  {
   "cell_type": "code",
   "execution_count": null,
   "metadata": {
    "_uuid": "6e782c71bc2194713eb2053396af41238e25307a"
   },
   "outputs": [],
   "source": [
    "#x_train = x_train.drop(['Horizontal_Distance_To_Hydrology', 'Vertical_Distance_To_Hydrology'],axis=1)"
   ]
  },
  {
   "cell_type": "code",
   "execution_count": null,
   "metadata": {
    "_uuid": "e287910f0e29070d1dfb69b71bd26861f0c4fd72"
   },
   "outputs": [],
   "source": [
    "x_train = x_train.drop(['Id'],axis=1)"
   ]
  },
  {
   "cell_type": "code",
   "execution_count": null,
   "metadata": {
    "_uuid": "2aec2c234b5e4d1cca74f755e2b89e3e00606ae5"
   },
   "outputs": [],
   "source": [
    "x_train.head()\n",
    "x = pd.concat([ x_train, df_train.iloc[:,-1:]], axis = 1)"
   ]
  },
  {
   "cell_type": "code",
   "execution_count": null,
   "metadata": {
    "_uuid": "69fe2eea2df91656af100c2056c9b8d700dbabef"
   },
   "outputs": [],
   "source": [
    "fig, ax = plt.subplots(figsize=(10,10)) \n",
    "sns.heatmap(x.corr(),annot = True, fmt = '.2f', cmap = 'coolwarm', ax=ax) # with y"
   ]
  },
  {
   "cell_type": "code",
   "execution_count": null,
   "metadata": {
    "_uuid": "bcfb3334553e6ab79fe8737f8c79a74d67176adc",
    "scrolled": false
   },
   "outputs": [],
   "source": [
    "x.head()\n",
    "x.to_csv('cleaned_data.csv', sep=',')"
   ]
  }
 ],
 "metadata": {
  "kernelspec": {
   "display_name": "Python 3",
   "language": "python",
   "name": "python3"
  },
  "language_info": {
   "codemirror_mode": {
    "name": "ipython",
    "version": 3
   },
   "file_extension": ".py",
   "mimetype": "text/x-python",
   "name": "python",
   "nbconvert_exporter": "python",
   "pygments_lexer": "ipython3",
   "version": "3.6.8"
  }
 },
 "nbformat": 4,
 "nbformat_minor": 1
}
